{
 "cells": [
  {
   "cell_type": "markdown",
   "id": "cee1e4cd-1f3b-440a-89b8-77f49dcdae5e",
   "metadata": {},
   "source": [
    "Initialize"
   ]
  },
  {
   "cell_type": "code",
   "execution_count": 1,
   "id": "d85a86b6-f6e4-41cb-84a8-3073bbd5ae5c",
   "metadata": {},
   "outputs": [],
   "source": [
    "import requests\n",
    "import pandas as pd\n",
    "import json\n",
    "headers={'User-Agent': 'Mozilla/5.0 (Windows NT 10.0; Win64; x64) AppleWebKit/537.36 (KHTML, like Gecko) Chrome/102.0.0.0 Safari/537.36'}"
   ]
  },
  {
   "cell_type": "markdown",
   "id": "12eb2a7f-c3f2-490f-b23e-8c908e2190c2",
   "metadata": {
    "tags": []
   },
   "source": [
    "Source & Check Response"
   ]
  },
  {
   "cell_type": "code",
   "execution_count": 79,
   "id": "1c11d726-4e66-4e3c-947a-a793809eab9c",
   "metadata": {
    "tags": []
   },
   "outputs": [],
   "source": [
    "url = 'https://www.olx.co.id/api/relevance/v2/search?category=5158&facet_limit=100&location=4000209&location_facet_limit=20&p_certificate=shm-sertifikathakmilik&page={}&platform=web-desktop&price_max=1000000000&price_min=150000000&type=rumah'\n",
    "pgnum = 1"
   ]
  },
  {
   "cell_type": "raw",
   "id": "a8ee2865-eb1b-4749-8b87-a71cb53df2bb",
   "metadata": {},
   "source": [
    "Test Connection"
   ]
  },
  {
   "cell_type": "code",
   "execution_count": 80,
   "id": "067420e5-cbe9-4dee-bb35-2634edf7ad40",
   "metadata": {},
   "outputs": [
    {
     "name": "stdout",
     "output_type": "stream",
     "text": [
      "<Response [200]>\n"
     ]
    }
   ],
   "source": [
    "item = []\n",
    "r = requests.get(url.format(pgnum), headers=headers)\n",
    "print(r)"
   ]
  },
  {
   "cell_type": "markdown",
   "id": "808af048-3e75-4494-9464-fa8ade5ec6ad",
   "metadata": {},
   "source": [
    "Locate Data"
   ]
  },
  {
   "cell_type": "code",
   "execution_count": 4,
   "id": "0bf8fe4c-e7f7-4026-8869-5e503a672ca7",
   "metadata": {},
   "outputs": [],
   "source": [
    "#'total_ads': 203171\n",
    "#'ads_on_page': 20\n",
    "#'total_pages': 4233\n",
    "adsc = 1\n",
    "json_text = r.json()\n",
    "#json_text"
   ]
  },
  {
   "cell_type": "code",
   "execution_count": 9,
   "id": "ecfb8f57-7ea8-4fa5-8701-fb1108357f1f",
   "metadata": {},
   "outputs": [],
   "source": [
    "a =[]\n",
    "for pgnum in range (50):\n",
    "    r = requests.get(url.format(pgnum), headers=headers)\n",
    "    json_text = r.json()\n",
    "    for adsc in range (20):\n",
    "        harga = json_text['data'][adsc]['price']['value']['display']\n",
    "        lokasi = json_text['data'][adsc]['locations_resolved']['ADMIN_LEVEL_1_name'], json_text['data'][adsc]['locations_resolved']['ADMIN_LEVEL_3_name'], json_text['data'][adsc]['locations_resolved']['SUBLOCALITY_LEVEL_1_name']\n",
    "        hl = harga, lokasi\n",
    "        a.append(hl)\n",
    "        #print(lokasi)\n",
    "df = pd.DataFrame(a)"
   ]
  },
  {
   "cell_type": "code",
   "execution_count": 85,
   "id": "ab429f89-4425-43c4-838b-2fcd3ef3ea72",
   "metadata": {},
   "outputs": [],
   "source": [
    "df.to_csv('housing.csv', encoding='utf-8', index=False)"
   ]
  }
 ],
 "metadata": {
  "kernelspec": {
   "display_name": "Python 3 (ipykernel)",
   "language": "python",
   "name": "python3"
  },
  "language_info": {
   "codemirror_mode": {
    "name": "ipython",
    "version": 3
   },
   "file_extension": ".py",
   "mimetype": "text/x-python",
   "name": "python",
   "nbconvert_exporter": "python",
   "pygments_lexer": "ipython3",
   "version": "3.9.13"
  }
 },
 "nbformat": 4,
 "nbformat_minor": 5
}
